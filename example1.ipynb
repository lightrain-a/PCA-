{
 "cells": [
  {
   "cell_type": "code",
   "execution_count": 1,
   "metadata": {},
   "outputs": [
    {
     "name": "stdout",
     "output_type": "stream",
     "text": [
      "协方差矩阵1:\n",
      "[[ 115.70003 -120.54999]\n",
      " [-120.54999  138.70001]]\n",
      "\n",
      "协方差矩阵2:\n",
      "[[ 6.333333   2.4999995 -5.       ]\n",
      " [ 2.5        1.        -2.       ]\n",
      " [-5.        -2.         4.       ]]\n"
     ]
    }
   ],
   "source": [
    "import paddle\n",
    "\n",
    "# 初始化数据\n",
    "x1 = paddle.to_tensor([10, 39, 19, 23, 28], dtype='float32')\n",
    "y1 = paddle.to_tensor([43, 13, 32, 21, 20], dtype='float32')\n",
    "\n",
    "x2 = paddle.to_tensor([1, -1, 4], dtype='float32')\n",
    "y2 = paddle.to_tensor([2, 1, 3], dtype='float32')\n",
    "z2 = paddle.to_tensor([1, 3, -1], dtype='float32')\n",
    "\n",
    "# 计算协方差矩阵\n",
    "# 注意: PaddlePaddle在计算协方差矩阵时，需要将数据组合成一个二维tensor，其中每行是一个变量的观测值\n",
    "cov_matrix1 = paddle.linalg.cov(paddle.stack([x1, y1], axis=0))\n",
    "cov_matrix2 = paddle.linalg.cov(paddle.stack([x2, y2, z2], axis=0))\n",
    "\n",
    "print(\"协方差矩阵1:\")\n",
    "print(cov_matrix1.numpy())\n",
    "# 协方差矩阵1:\n",
    "# [[ 115.70003 -120.54999]\n",
    "#  [-120.54999  138.70001]]\n",
    "\n",
    "print(\"\\n协方差矩阵2:\")\n",
    "print(cov_matrix2.numpy())\n",
    "# 协方差矩阵2:\n",
    "# [[ 6.333333   2.4999995 -5.       ]\n",
    "#  [ 2.5        1.        -2.       ]\n",
    "#  [-5.        -2.         4.       ]]"
   ]
  },
  {
   "cell_type": "code",
   "execution_count": 2,
   "metadata": {},
   "outputs": [
    {
     "name": "stdout",
     "output_type": "stream",
     "text": [
      "x 维的平均值为： 1.8099998\n",
      "y 维的平均值为： 1.9100001\n",
      "协方差矩阵为： [[0.6165555 0.6154444]\n",
      " [0.6154444 0.7165556]]\n",
      "该协方差矩阵的特征值为： [0.04908335+0.j 1.2840276 +0.j]\n",
      "该协方差矩阵的特征向量为： [[-0.73517877+0.j -0.6778734 +0.j]\n",
      " [ 0.6778734 +0.j -0.73517877+0.j]]\n"
     ]
    }
   ],
   "source": [
    "import paddle\n",
    "\n",
    "# 初始化数据\n",
    "x = paddle.to_tensor([2.5, 0.5, 2.2, 1.9, 3.1, 2.3, 2, 1, 1.5, 1.1], dtype='float32')\n",
    "y = paddle.to_tensor([2.4, 0.7, 2.9, 2.2, 3.0, 2.7, 1.6, 1.1, 1.6, 0.9], dtype='float32')\n",
    "\n",
    "# 计算平均值\n",
    "means_X = paddle.mean(x)\n",
    "means_Y = paddle.mean(y)\n",
    "print(\"x 维的平均值为：\", means_X.numpy())\n",
    "print(\"y 维的平均值为：\", means_Y.numpy())\n",
    "# x 维的平均值为： 1.8099998\n",
    "# y 维的平均值为： 1.9100001\n",
    "\n",
    "# 更新数据，减去平均值\n",
    "update_x = x - means_X\n",
    "update_y = y - means_Y\n",
    "\n",
    "# 合并更新后的数据\n",
    "c = paddle.stack((update_x, update_y), axis=0)\n",
    "\n",
    "# 使用飞桨计算协方差矩阵\n",
    "cov_c = paddle.linalg.cov(c)\n",
    "print(\"协方差矩阵为：\", cov_c.numpy())\n",
    "# 协方差矩阵为： [[0.6165555 0.6154444]\n",
    "#  [0.6154444 0.7165556]]\n",
    "\n",
    "# 计算协方差矩阵的特征值和特征向量\n",
    "eigenvalues, eigenvectors = paddle.linalg.eig(cov_c)\n",
    "print(\"该协方差矩阵的特征值为：\", eigenvalues.numpy())\n",
    "print(\"该协方差矩阵的特征向量为：\", eigenvectors.numpy())\n",
    "# 该协方差矩阵的特征值为： [0.04908335+0.j 1.2840276 +0.j]\n",
    "# 该协方差矩阵的特征向量为： [[-0.73517877+0.j -0.6778734 +0.j]\n",
    "#  [ 0.6778734 +0.j -0.73517877+0.j]]"
   ]
  },
  {
   "cell_type": "code",
   "execution_count": null,
   "metadata": {},
   "outputs": [],
   "source": []
  }
 ],
 "metadata": {
  "kernelspec": {
   "display_name": "paddle",
   "language": "python",
   "name": "python3"
  },
  "language_info": {
   "codemirror_mode": {
    "name": "ipython",
    "version": 3
   },
   "file_extension": ".py",
   "mimetype": "text/x-python",
   "name": "python",
   "nbconvert_exporter": "python",
   "pygments_lexer": "ipython3",
   "version": "3.11.8"
  }
 },
 "nbformat": 4,
 "nbformat_minor": 2
}
